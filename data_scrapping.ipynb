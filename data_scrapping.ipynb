{
 "cells": [
  {
   "cell_type": "code",
   "execution_count": 145,
   "metadata": {},
   "outputs": [],
   "source": [
    "import pandas as pd\n",
    "import random\n",
    "import requests\n",
    "from bs4 import BeautifulSoup"
   ]
  },
  {
   "cell_type": "markdown",
   "metadata": {},
   "source": [
    "# Make Comment"
   ]
  },
  {
   "cell_type": "code",
   "execution_count": null,
   "metadata": {},
   "outputs": [],
   "source": [
    "ratings = pd.read_csv('database/ratings.csv')"
   ]
  },
  {
   "cell_type": "code",
   "execution_count": null,
   "metadata": {},
   "outputs": [],
   "source": [
    "very_good_comments = ['very good!','It\\'s my favourite movie in my life!!', '<3<3<3',\n",
    "                      'It is the rare movie that succeeds on almost every level']\n",
    "good_comments = ['I enjoy it so much.','I like it.',':)',':D',\n",
    "                 'I loved the movie far more than I should have, but that doesn\\'t mean it is perfect.']\n",
    "fair_comments = ['I loved the wildly uneven Interstellar far more than I should have, but that doesn\\'t mean it is perfect.',\n",
    "                'Generally it\\'s okay','I was looking forward to watching this film, but turned out it\\'s just average',\n",
    "                ':/','fair','not surprising at all','nice view but bad plot','I prefer watching it on the Internet']\n",
    "bad_comments = [':(((','-_-','Boring','I better pay my dollar to buy myself a pineapple pizza']\n",
    "very_bad_comments = [':@@@@@@','very bad!','bad plot, bad actors, everything is bad',\n",
    "                     'I can even make a better plot than this','ridiculous!']"
   ]
  },
  {
   "cell_type": "code",
   "execution_count": null,
   "metadata": {},
   "outputs": [],
   "source": [
    "ratings['comments'] = ['']*ratings.shape[0]"
   ]
  },
  {
   "cell_type": "code",
   "execution_count": null,
   "metadata": {},
   "outputs": [],
   "source": [
    "for i, rating in enumerate(ratings.rating):\n",
    "    if rating > 4.5:\n",
    "        ratings.loc[i,'comments'] = random.choice(very_good_comments)\n",
    "    elif rating <= 4.5 and rating > 3.5:\n",
    "        ratings.loc[i,'comments'] = random.choice(good_comments)\n",
    "    elif rating <= 3.5 and rating >= 3.0:\n",
    "        ratings.loc[i,'comments'] = random.choice(fair_comments)\n",
    "    elif rating >= 2.5 and rating < 3.0:\n",
    "        ratings.loc[i,'comments'] = random.choice(bad_comments)\n",
    "    else:\n",
    "        ratings.loc[i,'comments'] = random.choice(very_bad_comments)"
   ]
  },
  {
   "cell_type": "code",
   "execution_count": null,
   "metadata": {},
   "outputs": [],
   "source": [
    "ratings.head()"
   ]
  },
  {
   "cell_type": "code",
   "execution_count": null,
   "metadata": {},
   "outputs": [],
   "source": [
    "ratings.to_csv('database/ratings_add_cm.csv')"
   ]
  },
  {
   "cell_type": "markdown",
   "metadata": {},
   "source": [
    "# Reformatting Movies Dataset"
   ]
  },
  {
   "cell_type": "code",
   "execution_count": 81,
   "metadata": {},
   "outputs": [],
   "source": [
    "movies = pd.read_csv('ml-latest-small/movies.csv')"
   ]
  },
  {
   "cell_type": "code",
   "execution_count": 82,
   "metadata": {},
   "outputs": [],
   "source": [
    "def try_convert_year(x):\n",
    "    try:\n",
    "        return int(x.rstrip()[-5:-1])\n",
    "    except:\n",
    "        return 0\n",
    "    \n",
    "def try_convert_title(x):\n",
    "    if x.rstrip()[-5:-1].isnumeric():\n",
    "        return x.rstrip()[:-6]\n",
    "    else:\n",
    "        return x\n",
    "    \n",
    "movies['year'] = movies.title.apply(try_convert_year)\n",
    "movies['title'] = movies.title.apply(try_convert_title)"
   ]
  },
  {
   "cell_type": "code",
   "execution_count": 83,
   "metadata": {},
   "outputs": [],
   "source": [
    "missing_year_movie_id = movies[movies['year'] == 0].movieId.values\n",
    "missing_year = [1993,2018,2015,1983,2016,2016,2016,2016,1980,2017,2017,2011]\n",
    "fill_the_missing = dict(zip(missing_year_movie_id,missing_year))\n",
    "\n",
    "for k,v in fill_the_missing.items():\n",
    "    movies.loc[movies.movieId==k,'year'] = v"
   ]
  },
  {
   "cell_type": "code",
   "execution_count": 140,
   "metadata": {},
   "outputs": [
    {
     "data": {
      "text/html": [
       "<div>\n",
       "<style scoped>\n",
       "    .dataframe tbody tr th:only-of-type {\n",
       "        vertical-align: middle;\n",
       "    }\n",
       "\n",
       "    .dataframe tbody tr th {\n",
       "        vertical-align: top;\n",
       "    }\n",
       "\n",
       "    .dataframe thead th {\n",
       "        text-align: right;\n",
       "    }\n",
       "</style>\n",
       "<table border=\"1\" class=\"dataframe\">\n",
       "  <thead>\n",
       "    <tr style=\"text-align: right;\">\n",
       "      <th></th>\n",
       "      <th>movieId</th>\n",
       "      <th>title</th>\n",
       "      <th>genres</th>\n",
       "      <th>year</th>\n",
       "    </tr>\n",
       "  </thead>\n",
       "  <tbody>\n",
       "    <tr>\n",
       "      <th>0</th>\n",
       "      <td>1</td>\n",
       "      <td>Toy Story</td>\n",
       "      <td>[Adventure, Animation, Children, Comedy, Fantasy]</td>\n",
       "      <td>1995</td>\n",
       "    </tr>\n",
       "    <tr>\n",
       "      <th>1</th>\n",
       "      <td>2</td>\n",
       "      <td>Jumanji</td>\n",
       "      <td>[Adventure, Children, Fantasy]</td>\n",
       "      <td>1995</td>\n",
       "    </tr>\n",
       "    <tr>\n",
       "      <th>2</th>\n",
       "      <td>3</td>\n",
       "      <td>Grumpier Old Men</td>\n",
       "      <td>[Comedy, Romance]</td>\n",
       "      <td>1995</td>\n",
       "    </tr>\n",
       "    <tr>\n",
       "      <th>3</th>\n",
       "      <td>4</td>\n",
       "      <td>Waiting to Exhale</td>\n",
       "      <td>[Comedy, Drama, Romance]</td>\n",
       "      <td>1995</td>\n",
       "    </tr>\n",
       "    <tr>\n",
       "      <th>4</th>\n",
       "      <td>5</td>\n",
       "      <td>Father of the Bride Part II</td>\n",
       "      <td>[Comedy]</td>\n",
       "      <td>1995</td>\n",
       "    </tr>\n",
       "  </tbody>\n",
       "</table>\n",
       "</div>"
      ],
      "text/plain": [
       "   movieId                         title  \\\n",
       "0        1                    Toy Story    \n",
       "1        2                      Jumanji    \n",
       "2        3             Grumpier Old Men    \n",
       "3        4            Waiting to Exhale    \n",
       "4        5  Father of the Bride Part II    \n",
       "\n",
       "                                              genres  year  \n",
       "0  [Adventure, Animation, Children, Comedy, Fantasy]  1995  \n",
       "1                     [Adventure, Children, Fantasy]  1995  \n",
       "2                                  [Comedy, Romance]  1995  \n",
       "3                           [Comedy, Drama, Romance]  1995  \n",
       "4                                           [Comedy]  1995  "
      ]
     },
     "execution_count": 140,
     "metadata": {},
     "output_type": "execute_result"
    }
   ],
   "source": [
    "movies.head()"
   ]
  },
  {
   "cell_type": "code",
   "execution_count": 218,
   "metadata": {},
   "outputs": [],
   "source": [
    "movies.drop('genres',axis=1).to_csv('movies_reformat.csv')"
   ]
  },
  {
   "cell_type": "markdown",
   "metadata": {},
   "source": [
    "# Create Genres Dataset"
   ]
  },
  {
   "cell_type": "code",
   "execution_count": 88,
   "metadata": {},
   "outputs": [],
   "source": [
    "# flatten genres data\n",
    "movies.genres = movies.genres.apply(lambda x: x.split('|'))\n",
    "\n",
    "all_genres = movies.genres.to_list()\n",
    "unique_genres = set([genre for genres in all_genres for genre in genres])"
   ]
  },
  {
   "cell_type": "code",
   "execution_count": 104,
   "metadata": {},
   "outputs": [],
   "source": [
    "flatdata = pd.DataFrame([(index, value) for (index, values)\n",
    "                         in movies['genres'].iteritems() for value in values],\n",
    "                             columns = ['index', 'genres']).set_index('index')\n",
    "flatdata = flatdata.reset_index() \n",
    "flatdata.columns = ['movieId','genres']\n",
    "flatdata.to_csv('genres.csv')"
   ]
  },
  {
   "cell_type": "markdown",
   "metadata": {},
   "source": [
    "# Create Users Dataset"
   ]
  },
  {
   "cell_type": "code",
   "execution_count": 106,
   "metadata": {},
   "outputs": [
    {
     "name": "stdout",
     "output_type": "stream",
     "text": [
      "Collecting random-username\n",
      "  Downloading random_username-1.0.2-py3-none-any.whl (6.7 kB)\n",
      "Installing collected packages: random-username\n",
      "Successfully installed random-username-1.0.2\n"
     ]
    }
   ],
   "source": [
    "!pip install random-username"
   ]
  },
  {
   "cell_type": "code",
   "execution_count": 107,
   "metadata": {},
   "outputs": [],
   "source": [
    "from random_username.generate import generate_username"
   ]
  },
  {
   "cell_type": "code",
   "execution_count": 105,
   "metadata": {
    "scrolled": true
   },
   "outputs": [
    {
     "data": {
      "text/html": [
       "<div>\n",
       "<style scoped>\n",
       "    .dataframe tbody tr th:only-of-type {\n",
       "        vertical-align: middle;\n",
       "    }\n",
       "\n",
       "    .dataframe tbody tr th {\n",
       "        vertical-align: top;\n",
       "    }\n",
       "\n",
       "    .dataframe thead th {\n",
       "        text-align: right;\n",
       "    }\n",
       "</style>\n",
       "<table border=\"1\" class=\"dataframe\">\n",
       "  <thead>\n",
       "    <tr style=\"text-align: right;\">\n",
       "      <th></th>\n",
       "      <th>userId</th>\n",
       "      <th>movieId</th>\n",
       "      <th>rating</th>\n",
       "      <th>timestamp</th>\n",
       "    </tr>\n",
       "  </thead>\n",
       "  <tbody>\n",
       "    <tr>\n",
       "      <th>0</th>\n",
       "      <td>1</td>\n",
       "      <td>1</td>\n",
       "      <td>4.0</td>\n",
       "      <td>964982703</td>\n",
       "    </tr>\n",
       "    <tr>\n",
       "      <th>1</th>\n",
       "      <td>1</td>\n",
       "      <td>3</td>\n",
       "      <td>4.0</td>\n",
       "      <td>964981247</td>\n",
       "    </tr>\n",
       "    <tr>\n",
       "      <th>2</th>\n",
       "      <td>1</td>\n",
       "      <td>6</td>\n",
       "      <td>4.0</td>\n",
       "      <td>964982224</td>\n",
       "    </tr>\n",
       "    <tr>\n",
       "      <th>3</th>\n",
       "      <td>1</td>\n",
       "      <td>47</td>\n",
       "      <td>5.0</td>\n",
       "      <td>964983815</td>\n",
       "    </tr>\n",
       "    <tr>\n",
       "      <th>4</th>\n",
       "      <td>1</td>\n",
       "      <td>50</td>\n",
       "      <td>5.0</td>\n",
       "      <td>964982931</td>\n",
       "    </tr>\n",
       "  </tbody>\n",
       "</table>\n",
       "</div>"
      ],
      "text/plain": [
       "   userId  movieId  rating  timestamp\n",
       "0       1        1     4.0  964982703\n",
       "1       1        3     4.0  964981247\n",
       "2       1        6     4.0  964982224\n",
       "3       1       47     5.0  964983815\n",
       "4       1       50     5.0  964982931"
      ]
     },
     "execution_count": 105,
     "metadata": {},
     "output_type": "execute_result"
    }
   ],
   "source": [
    "ratings = pd.read_csv('ml-latest-small/ratings.csv')\n",
    "ratings.head()"
   ]
  },
  {
   "cell_type": "code",
   "execution_count": 116,
   "metadata": {},
   "outputs": [],
   "source": [
    "users = pd.DataFrame({'userId': ratings.userId.unique(),\n",
    "                      'username': generate_username(ratings.userId.nunique()),\n",
    "                      'password': ['password123']*ratings.userId.nunique()})"
   ]
  },
  {
   "cell_type": "code",
   "execution_count": 133,
   "metadata": {},
   "outputs": [],
   "source": [
    "# create no duplicated username\n",
    "\n",
    "nth = {\n",
    "0: \"first\",\n",
    "1: \"second\",\n",
    "2: \"third\",\n",
    "3: \"fourth\"\n",
    "}\n",
    "\n",
    "mask = users.username.duplicated(keep=False)\n",
    "users.loc[mask, 'username'] = users[mask].groupby('username').cumcount().map(nth) + users.loc[mask, 'username']"
   ]
  },
  {
   "cell_type": "code",
   "execution_count": 137,
   "metadata": {},
   "outputs": [
    {
     "data": {
      "text/plain": [
       "False    610\n",
       "Name: username, dtype: int64"
      ]
     },
     "execution_count": 137,
     "metadata": {},
     "output_type": "execute_result"
    }
   ],
   "source": [
    "users.username.duplicated().value_counts()"
   ]
  },
  {
   "cell_type": "code",
   "execution_count": 134,
   "metadata": {
    "scrolled": true
   },
   "outputs": [],
   "source": [
    "users.to_csv('users.csv')"
   ]
  },
  {
   "cell_type": "markdown",
   "metadata": {},
   "source": [
    "# Generate Posters"
   ]
  },
  {
   "cell_type": "code",
   "execution_count": 5,
   "metadata": {},
   "outputs": [
    {
     "data": {
      "text/html": [
       "<div>\n",
       "<style scoped>\n",
       "    .dataframe tbody tr th:only-of-type {\n",
       "        vertical-align: middle;\n",
       "    }\n",
       "\n",
       "    .dataframe tbody tr th {\n",
       "        vertical-align: top;\n",
       "    }\n",
       "\n",
       "    .dataframe thead th {\n",
       "        text-align: right;\n",
       "    }\n",
       "</style>\n",
       "<table border=\"1\" class=\"dataframe\">\n",
       "  <thead>\n",
       "    <tr style=\"text-align: right;\">\n",
       "      <th></th>\n",
       "      <th>movieId</th>\n",
       "      <th>imdbId</th>\n",
       "      <th>tmdbId</th>\n",
       "    </tr>\n",
       "  </thead>\n",
       "  <tbody>\n",
       "    <tr>\n",
       "      <th>0</th>\n",
       "      <td>1</td>\n",
       "      <td>114709</td>\n",
       "      <td>862.0</td>\n",
       "    </tr>\n",
       "    <tr>\n",
       "      <th>1</th>\n",
       "      <td>2</td>\n",
       "      <td>113497</td>\n",
       "      <td>8844.0</td>\n",
       "    </tr>\n",
       "    <tr>\n",
       "      <th>2</th>\n",
       "      <td>3</td>\n",
       "      <td>113228</td>\n",
       "      <td>15602.0</td>\n",
       "    </tr>\n",
       "    <tr>\n",
       "      <th>3</th>\n",
       "      <td>4</td>\n",
       "      <td>114885</td>\n",
       "      <td>31357.0</td>\n",
       "    </tr>\n",
       "    <tr>\n",
       "      <th>4</th>\n",
       "      <td>5</td>\n",
       "      <td>113041</td>\n",
       "      <td>11862.0</td>\n",
       "    </tr>\n",
       "  </tbody>\n",
       "</table>\n",
       "</div>"
      ],
      "text/plain": [
       "   movieId  imdbId   tmdbId\n",
       "0        1  114709    862.0\n",
       "1        2  113497   8844.0\n",
       "2        3  113228  15602.0\n",
       "3        4  114885  31357.0\n",
       "4        5  113041  11862.0"
      ]
     },
     "execution_count": 5,
     "metadata": {},
     "output_type": "execute_result"
    }
   ],
   "source": [
    "links = pd.read_csv('ml-latest-small/links.csv')\n",
    "links.head()"
   ]
  },
  {
   "cell_type": "code",
   "execution_count": 6,
   "metadata": {},
   "outputs": [
    {
     "name": "stdout",
     "output_type": "stream",
     "text": [
      "<class 'pandas.core.frame.DataFrame'>\n",
      "RangeIndex: 9742 entries, 0 to 9741\n",
      "Data columns (total 3 columns):\n",
      " #   Column   Non-Null Count  Dtype  \n",
      "---  ------   --------------  -----  \n",
      " 0   movieId  9742 non-null   int64  \n",
      " 1   imdbId   9742 non-null   int64  \n",
      " 2   tmdbId   9734 non-null   float64\n",
      "dtypes: float64(1), int64(2)\n",
      "memory usage: 228.5 KB\n"
     ]
    }
   ],
   "source": [
    "links.info()"
   ]
  },
  {
   "cell_type": "code",
   "execution_count": 16,
   "metadata": {},
   "outputs": [],
   "source": [
    "imdb_links = []\n",
    "\n",
    "for imdbId in links.imdbId:\n",
    "    imdb_links.append(f'https://www.imdb.com/title/tt{imdbId:07d}/')    "
   ]
  },
  {
   "cell_type": "code",
   "execution_count": 18,
   "metadata": {},
   "outputs": [],
   "source": [
    "links['imdb_link'] = imdb_links"
   ]
  },
  {
   "cell_type": "code",
   "execution_count": 193,
   "metadata": {},
   "outputs": [],
   "source": [
    "posters = pd.read_csv('MovieGenre.csv', encoding='latin-1')[['imdbId','Poster']]"
   ]
  },
  {
   "cell_type": "code",
   "execution_count": 194,
   "metadata": {},
   "outputs": [],
   "source": [
    "posters = links.set_index('imdbId').join(posters.set_index('imdbId'))\n",
    "posters = posters.sort_values(by='movieId')\n",
    "posters = posters.reset_index()"
   ]
  },
  {
   "cell_type": "code",
   "execution_count": 195,
   "metadata": {},
   "outputs": [
    {
     "data": {
      "text/html": [
       "<div>\n",
       "<style scoped>\n",
       "    .dataframe tbody tr th:only-of-type {\n",
       "        vertical-align: middle;\n",
       "    }\n",
       "\n",
       "    .dataframe tbody tr th {\n",
       "        vertical-align: top;\n",
       "    }\n",
       "\n",
       "    .dataframe thead th {\n",
       "        text-align: right;\n",
       "    }\n",
       "</style>\n",
       "<table border=\"1\" class=\"dataframe\">\n",
       "  <thead>\n",
       "    <tr style=\"text-align: right;\">\n",
       "      <th></th>\n",
       "      <th>imdbId</th>\n",
       "      <th>movieId</th>\n",
       "      <th>tmdbId</th>\n",
       "      <th>imdb_link</th>\n",
       "      <th>Poster</th>\n",
       "    </tr>\n",
       "  </thead>\n",
       "  <tbody>\n",
       "    <tr>\n",
       "      <th>0</th>\n",
       "      <td>114709</td>\n",
       "      <td>1</td>\n",
       "      <td>862.0</td>\n",
       "      <td>https://www.imdb.com/title/tt0114709/</td>\n",
       "      <td>https://images-na.ssl-images-amazon.com/images...</td>\n",
       "    </tr>\n",
       "    <tr>\n",
       "      <th>1</th>\n",
       "      <td>113497</td>\n",
       "      <td>2</td>\n",
       "      <td>8844.0</td>\n",
       "      <td>https://www.imdb.com/title/tt0113497/</td>\n",
       "      <td>https://images-na.ssl-images-amazon.com/images...</td>\n",
       "    </tr>\n",
       "    <tr>\n",
       "      <th>2</th>\n",
       "      <td>113228</td>\n",
       "      <td>3</td>\n",
       "      <td>15602.0</td>\n",
       "      <td>https://www.imdb.com/title/tt0113228/</td>\n",
       "      <td>https://images-na.ssl-images-amazon.com/images...</td>\n",
       "    </tr>\n",
       "    <tr>\n",
       "      <th>3</th>\n",
       "      <td>114885</td>\n",
       "      <td>4</td>\n",
       "      <td>31357.0</td>\n",
       "      <td>https://www.imdb.com/title/tt0114885/</td>\n",
       "      <td>https://images-na.ssl-images-amazon.com/images...</td>\n",
       "    </tr>\n",
       "    <tr>\n",
       "      <th>4</th>\n",
       "      <td>113041</td>\n",
       "      <td>5</td>\n",
       "      <td>11862.0</td>\n",
       "      <td>https://www.imdb.com/title/tt0113041/</td>\n",
       "      <td>https://images-na.ssl-images-amazon.com/images...</td>\n",
       "    </tr>\n",
       "    <tr>\n",
       "      <th>...</th>\n",
       "      <td>...</td>\n",
       "      <td>...</td>\n",
       "      <td>...</td>\n",
       "      <td>...</td>\n",
       "      <td>...</td>\n",
       "    </tr>\n",
       "    <tr>\n",
       "      <th>9910</th>\n",
       "      <td>5476944</td>\n",
       "      <td>193581</td>\n",
       "      <td>432131.0</td>\n",
       "      <td>https://www.imdb.com/title/tt5476944/</td>\n",
       "      <td>NaN</td>\n",
       "    </tr>\n",
       "    <tr>\n",
       "      <th>9911</th>\n",
       "      <td>5914996</td>\n",
       "      <td>193583</td>\n",
       "      <td>445030.0</td>\n",
       "      <td>https://www.imdb.com/title/tt5914996/</td>\n",
       "      <td>NaN</td>\n",
       "    </tr>\n",
       "    <tr>\n",
       "      <th>9912</th>\n",
       "      <td>6397426</td>\n",
       "      <td>193585</td>\n",
       "      <td>479308.0</td>\n",
       "      <td>https://www.imdb.com/title/tt6397426/</td>\n",
       "      <td>NaN</td>\n",
       "    </tr>\n",
       "    <tr>\n",
       "      <th>9913</th>\n",
       "      <td>8391976</td>\n",
       "      <td>193587</td>\n",
       "      <td>483455.0</td>\n",
       "      <td>https://www.imdb.com/title/tt8391976/</td>\n",
       "      <td>NaN</td>\n",
       "    </tr>\n",
       "    <tr>\n",
       "      <th>9914</th>\n",
       "      <td>101726</td>\n",
       "      <td>193609</td>\n",
       "      <td>37891.0</td>\n",
       "      <td>https://www.imdb.com/title/tt0101726/</td>\n",
       "      <td>NaN</td>\n",
       "    </tr>\n",
       "  </tbody>\n",
       "</table>\n",
       "<p>9915 rows × 5 columns</p>\n",
       "</div>"
      ],
      "text/plain": [
       "       imdbId  movieId    tmdbId                              imdb_link  \\\n",
       "0      114709        1     862.0  https://www.imdb.com/title/tt0114709/   \n",
       "1      113497        2    8844.0  https://www.imdb.com/title/tt0113497/   \n",
       "2      113228        3   15602.0  https://www.imdb.com/title/tt0113228/   \n",
       "3      114885        4   31357.0  https://www.imdb.com/title/tt0114885/   \n",
       "4      113041        5   11862.0  https://www.imdb.com/title/tt0113041/   \n",
       "...       ...      ...       ...                                    ...   \n",
       "9910  5476944   193581  432131.0  https://www.imdb.com/title/tt5476944/   \n",
       "9911  5914996   193583  445030.0  https://www.imdb.com/title/tt5914996/   \n",
       "9912  6397426   193585  479308.0  https://www.imdb.com/title/tt6397426/   \n",
       "9913  8391976   193587  483455.0  https://www.imdb.com/title/tt8391976/   \n",
       "9914   101726   193609   37891.0  https://www.imdb.com/title/tt0101726/   \n",
       "\n",
       "                                                 Poster  \n",
       "0     https://images-na.ssl-images-amazon.com/images...  \n",
       "1     https://images-na.ssl-images-amazon.com/images...  \n",
       "2     https://images-na.ssl-images-amazon.com/images...  \n",
       "3     https://images-na.ssl-images-amazon.com/images...  \n",
       "4     https://images-na.ssl-images-amazon.com/images...  \n",
       "...                                                 ...  \n",
       "9910                                                NaN  \n",
       "9911                                                NaN  \n",
       "9912                                                NaN  \n",
       "9913                                                NaN  \n",
       "9914                                                NaN  \n",
       "\n",
       "[9915 rows x 5 columns]"
      ]
     },
     "execution_count": 195,
     "metadata": {},
     "output_type": "execute_result"
    }
   ],
   "source": [
    "posters"
   ]
  },
  {
   "cell_type": "code",
   "execution_count": 204,
   "metadata": {},
   "outputs": [],
   "source": [
    "bad_request = []"
   ]
  },
  {
   "cell_type": "code",
   "execution_count": 205,
   "metadata": {
    "scrolled": true
   },
   "outputs": [
    {
     "name": "stderr",
     "output_type": "stream",
     "text": [
      "9915it [33:25,  4.94it/s] \n"
     ]
    }
   ],
   "source": [
    "for i, url in tqdm(enumerate(posters.Poster)):\n",
    "    if posters.movieId.loc[i]<720: continue\n",
    "    try:\n",
    "        urllib.request.urlretrieve(url, f\"posters/{posters.movieId.loc[i]}.jpg\")\n",
    "    except: # bad request\n",
    "        bad_request.append(posters.movieId.loc[i])"
   ]
  },
  {
   "cell_type": "code",
   "execution_count": 208,
   "metadata": {},
   "outputs": [
    {
     "data": {
      "text/html": [
       "<div>\n",
       "<style scoped>\n",
       "    .dataframe tbody tr th:only-of-type {\n",
       "        vertical-align: middle;\n",
       "    }\n",
       "\n",
       "    .dataframe tbody tr th {\n",
       "        vertical-align: top;\n",
       "    }\n",
       "\n",
       "    .dataframe thead th {\n",
       "        text-align: right;\n",
       "    }\n",
       "</style>\n",
       "<table border=\"1\" class=\"dataframe\">\n",
       "  <thead>\n",
       "    <tr style=\"text-align: right;\">\n",
       "      <th></th>\n",
       "      <th>movieId</th>\n",
       "      <th>title</th>\n",
       "      <th>genres</th>\n",
       "      <th>year</th>\n",
       "    </tr>\n",
       "  </thead>\n",
       "  <tbody>\n",
       "    <tr>\n",
       "      <th>586</th>\n",
       "      <td>722</td>\n",
       "      <td>Haunted World of Edward D. Wood Jr., The</td>\n",
       "      <td>[Documentary]</td>\n",
       "      <td>1996</td>\n",
       "    </tr>\n",
       "    <tr>\n",
       "      <th>596</th>\n",
       "      <td>741</td>\n",
       "      <td>Ghost in the Shell (Kôkaku kidôtai)</td>\n",
       "      <td>[Animation, Sci-Fi]</td>\n",
       "      <td>1995</td>\n",
       "    </tr>\n",
       "    <tr>\n",
       "      <th>625</th>\n",
       "      <td>795</td>\n",
       "      <td>Somebody to Love</td>\n",
       "      <td>[Drama]</td>\n",
       "      <td>1994</td>\n",
       "    </tr>\n",
       "    <tr>\n",
       "      <th>628</th>\n",
       "      <td>800</td>\n",
       "      <td>Lone Star</td>\n",
       "      <td>[Drama, Mystery, Western]</td>\n",
       "      <td>1996</td>\n",
       "    </tr>\n",
       "    <tr>\n",
       "      <th>631</th>\n",
       "      <td>803</td>\n",
       "      <td>Walking and Talking</td>\n",
       "      <td>[Comedy, Drama, Romance]</td>\n",
       "      <td>1996</td>\n",
       "    </tr>\n",
       "    <tr>\n",
       "      <th>...</th>\n",
       "      <td>...</td>\n",
       "      <td>...</td>\n",
       "      <td>...</td>\n",
       "      <td>...</td>\n",
       "    </tr>\n",
       "    <tr>\n",
       "      <th>9737</th>\n",
       "      <td>193581</td>\n",
       "      <td>Black Butler: Book of the Atlantic</td>\n",
       "      <td>[Action, Animation, Comedy, Fantasy]</td>\n",
       "      <td>2017</td>\n",
       "    </tr>\n",
       "    <tr>\n",
       "      <th>9738</th>\n",
       "      <td>193583</td>\n",
       "      <td>No Game No Life: Zero</td>\n",
       "      <td>[Animation, Comedy, Fantasy]</td>\n",
       "      <td>2017</td>\n",
       "    </tr>\n",
       "    <tr>\n",
       "      <th>9739</th>\n",
       "      <td>193585</td>\n",
       "      <td>Flint</td>\n",
       "      <td>[Drama]</td>\n",
       "      <td>2017</td>\n",
       "    </tr>\n",
       "    <tr>\n",
       "      <th>9740</th>\n",
       "      <td>193587</td>\n",
       "      <td>Bungo Stray Dogs: Dead Apple</td>\n",
       "      <td>[Action, Animation]</td>\n",
       "      <td>2018</td>\n",
       "    </tr>\n",
       "    <tr>\n",
       "      <th>9741</th>\n",
       "      <td>193609</td>\n",
       "      <td>Andrew Dice Clay: Dice Rules</td>\n",
       "      <td>[Comedy]</td>\n",
       "      <td>1991</td>\n",
       "    </tr>\n",
       "  </tbody>\n",
       "</table>\n",
       "<p>1120 rows × 4 columns</p>\n",
       "</div>"
      ],
      "text/plain": [
       "      movieId                                      title  \\\n",
       "586       722  Haunted World of Edward D. Wood Jr., The    \n",
       "596       741       Ghost in the Shell (Kôkaku kidôtai)    \n",
       "625       795                          Somebody to Love    \n",
       "628       800                                 Lone Star    \n",
       "631       803                       Walking and Talking    \n",
       "...       ...                                        ...   \n",
       "9737   193581        Black Butler: Book of the Atlantic    \n",
       "9738   193583                     No Game No Life: Zero    \n",
       "9739   193585                                     Flint    \n",
       "9740   193587              Bungo Stray Dogs: Dead Apple    \n",
       "9741   193609              Andrew Dice Clay: Dice Rules    \n",
       "\n",
       "                                    genres  year  \n",
       "586                          [Documentary]  1996  \n",
       "596                    [Animation, Sci-Fi]  1995  \n",
       "625                                [Drama]  1994  \n",
       "628              [Drama, Mystery, Western]  1996  \n",
       "631               [Comedy, Drama, Romance]  1996  \n",
       "...                                    ...   ...  \n",
       "9737  [Action, Animation, Comedy, Fantasy]  2017  \n",
       "9738          [Animation, Comedy, Fantasy]  2017  \n",
       "9739                               [Drama]  2017  \n",
       "9740                   [Action, Animation]  2018  \n",
       "9741                              [Comedy]  1991  \n",
       "\n",
       "[1120 rows x 4 columns]"
      ]
     },
     "execution_count": 208,
     "metadata": {},
     "output_type": "execute_result"
    }
   ],
   "source": [
    "movies[movies.movieId.isin(bad_request)]"
   ]
  },
  {
   "cell_type": "code",
   "execution_count": 154,
   "metadata": {},
   "outputs": [],
   "source": [
    "from tqdm import tqdm\n",
    "import urllib.request"
   ]
  },
  {
   "cell_type": "code",
   "execution_count": 200,
   "metadata": {},
   "outputs": [
    {
     "data": {
      "text/plain": [
       "('posters/722.jpg', <http.client.HTTPMessage at 0x161e4b9c700>)"
      ]
     },
     "execution_count": 200,
     "metadata": {},
     "output_type": "execute_result"
    }
   ],
   "source": [
    "html_page = requests.get('https://www.imdb.com/title/tt0117108/')\n",
    "soup = BeautifulSoup(html_page.content, 'html.parser')\n",
    "urllib.request.urlretrieve(soup.img['src'], f\"posters/{links.movieId.loc[i]}.jpg\")"
   ]
  },
  {
   "cell_type": "code",
   "execution_count": 213,
   "metadata": {},
   "outputs": [
    {
     "name": "stderr",
     "output_type": "stream",
     "text": [
      "9742it [1:26:48,  1.87it/s]\n"
     ]
    }
   ],
   "source": [
    "# Scrap Poster\n",
    "bad_request_2 = []\n",
    "\n",
    "for i, url in tqdm(enumerate(links.imdb_link)):\n",
    "    if links.movieId.loc[i] in bad_request:\n",
    "        try:\n",
    "            html_page = requests.get(url)\n",
    "            soup = BeautifulSoup(html_page.content, 'html.parser')\n",
    "            urllib.request.urlretrieve(soup.img['src'], f\"posters/{links.movieId.loc[i]}.jpg\")\n",
    "        except:\n",
    "            bad_request_2.append(links.movieId.loc[i])"
   ]
  },
  {
   "cell_type": "code",
   "execution_count": 216,
   "metadata": {},
   "outputs": [
    {
     "data": {
      "text/html": [
       "<div>\n",
       "<style scoped>\n",
       "    .dataframe tbody tr th:only-of-type {\n",
       "        vertical-align: middle;\n",
       "    }\n",
       "\n",
       "    .dataframe tbody tr th {\n",
       "        vertical-align: top;\n",
       "    }\n",
       "\n",
       "    .dataframe thead th {\n",
       "        text-align: right;\n",
       "    }\n",
       "</style>\n",
       "<table border=\"1\" class=\"dataframe\">\n",
       "  <thead>\n",
       "    <tr style=\"text-align: right;\">\n",
       "      <th></th>\n",
       "      <th>movieId</th>\n",
       "      <th>title</th>\n",
       "      <th>genres</th>\n",
       "      <th>year</th>\n",
       "    </tr>\n",
       "  </thead>\n",
       "  <tbody>\n",
       "    <tr>\n",
       "      <th>0</th>\n",
       "      <td>1</td>\n",
       "      <td>Toy Story</td>\n",
       "      <td>[Adventure, Animation, Children, Comedy, Fantasy]</td>\n",
       "      <td>1995</td>\n",
       "    </tr>\n",
       "    <tr>\n",
       "      <th>1</th>\n",
       "      <td>2</td>\n",
       "      <td>Jumanji</td>\n",
       "      <td>[Adventure, Children, Fantasy]</td>\n",
       "      <td>1995</td>\n",
       "    </tr>\n",
       "    <tr>\n",
       "      <th>2</th>\n",
       "      <td>3</td>\n",
       "      <td>Grumpier Old Men</td>\n",
       "      <td>[Comedy, Romance]</td>\n",
       "      <td>1995</td>\n",
       "    </tr>\n",
       "    <tr>\n",
       "      <th>3</th>\n",
       "      <td>4</td>\n",
       "      <td>Waiting to Exhale</td>\n",
       "      <td>[Comedy, Drama, Romance]</td>\n",
       "      <td>1995</td>\n",
       "    </tr>\n",
       "    <tr>\n",
       "      <th>4</th>\n",
       "      <td>5</td>\n",
       "      <td>Father of the Bride Part II</td>\n",
       "      <td>[Comedy]</td>\n",
       "      <td>1995</td>\n",
       "    </tr>\n",
       "    <tr>\n",
       "      <th>...</th>\n",
       "      <td>...</td>\n",
       "      <td>...</td>\n",
       "      <td>...</td>\n",
       "      <td>...</td>\n",
       "    </tr>\n",
       "    <tr>\n",
       "      <th>9737</th>\n",
       "      <td>193581</td>\n",
       "      <td>Black Butler: Book of the Atlantic</td>\n",
       "      <td>[Action, Animation, Comedy, Fantasy]</td>\n",
       "      <td>2017</td>\n",
       "    </tr>\n",
       "    <tr>\n",
       "      <th>9738</th>\n",
       "      <td>193583</td>\n",
       "      <td>No Game No Life: Zero</td>\n",
       "      <td>[Animation, Comedy, Fantasy]</td>\n",
       "      <td>2017</td>\n",
       "    </tr>\n",
       "    <tr>\n",
       "      <th>9739</th>\n",
       "      <td>193585</td>\n",
       "      <td>Flint</td>\n",
       "      <td>[Drama]</td>\n",
       "      <td>2017</td>\n",
       "    </tr>\n",
       "    <tr>\n",
       "      <th>9740</th>\n",
       "      <td>193587</td>\n",
       "      <td>Bungo Stray Dogs: Dead Apple</td>\n",
       "      <td>[Action, Animation]</td>\n",
       "      <td>2018</td>\n",
       "    </tr>\n",
       "    <tr>\n",
       "      <th>9741</th>\n",
       "      <td>193609</td>\n",
       "      <td>Andrew Dice Clay: Dice Rules</td>\n",
       "      <td>[Comedy]</td>\n",
       "      <td>1991</td>\n",
       "    </tr>\n",
       "  </tbody>\n",
       "</table>\n",
       "<p>9742 rows × 4 columns</p>\n",
       "</div>"
      ],
      "text/plain": [
       "      movieId                                title  \\\n",
       "0           1                           Toy Story    \n",
       "1           2                             Jumanji    \n",
       "2           3                    Grumpier Old Men    \n",
       "3           4                   Waiting to Exhale    \n",
       "4           5         Father of the Bride Part II    \n",
       "...       ...                                  ...   \n",
       "9737   193581  Black Butler: Book of the Atlantic    \n",
       "9738   193583               No Game No Life: Zero    \n",
       "9739   193585                               Flint    \n",
       "9740   193587        Bungo Stray Dogs: Dead Apple    \n",
       "9741   193609        Andrew Dice Clay: Dice Rules    \n",
       "\n",
       "                                                 genres  year  \n",
       "0     [Adventure, Animation, Children, Comedy, Fantasy]  1995  \n",
       "1                        [Adventure, Children, Fantasy]  1995  \n",
       "2                                     [Comedy, Romance]  1995  \n",
       "3                              [Comedy, Drama, Romance]  1995  \n",
       "4                                              [Comedy]  1995  \n",
       "...                                                 ...   ...  \n",
       "9737               [Action, Animation, Comedy, Fantasy]  2017  \n",
       "9738                       [Animation, Comedy, Fantasy]  2017  \n",
       "9739                                            [Drama]  2017  \n",
       "9740                                [Action, Animation]  2018  \n",
       "9741                                           [Comedy]  1991  \n",
       "\n",
       "[9742 rows x 4 columns]"
      ]
     },
     "execution_count": 216,
     "metadata": {},
     "output_type": "execute_result"
    }
   ],
   "source": [
    "movies"
   ]
  },
  {
   "cell_type": "code",
   "execution_count": null,
   "metadata": {},
   "outputs": [],
   "source": []
  }
 ],
 "metadata": {
  "kernelspec": {
   "display_name": "Python 3",
   "language": "python",
   "name": "python3"
  },
  "language_info": {
   "codemirror_mode": {
    "name": "ipython",
    "version": 3
   },
   "file_extension": ".py",
   "mimetype": "text/x-python",
   "name": "python",
   "nbconvert_exporter": "python",
   "pygments_lexer": "ipython3",
   "version": "3.8.5"
  }
 },
 "nbformat": 4,
 "nbformat_minor": 4
}
